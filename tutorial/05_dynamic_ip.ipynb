{
 "cells": [
  {
   "cell_type": "markdown",
   "metadata": {},
   "source": [
    "# Using Dynamic IP on the Composable Pipeline\n",
    "----\n",
    "\n",
    "<div class=\"alert alert-box alert-info\">\n",
    "Please use Jupyter labs http://&lt;board_ip_address&gt;/lab for this notebook.\n",
    "</div>\n",
    "\n",
    "This notebook shows your how to load dynamic IP and compose branched pipelines\n",
    "\n",
    "## Aims\n",
    "* Load dynamic IP\n",
    "* Compose branched pipelines\n",
    "\n",
    "## Table of Contents\n",
    "* [Download Composable Overlay](#download)\n",
    "* [Start HDMI Video](#start_hdmi)\n",
    "* [Load Dynamic IP](#dynamic)\n",
    "* [Let us Compose](#compose)\n",
    "* [Branched Pipeline](#branched)\n",
    "* [Conflicting Dynamic IP](#conflicting)\n",
    "* [Stop HDMI Video](#stop_hdmi)\n",
    "* [Conclusion](#conclusion)\n",
    "\n",
    "----\n",
    "\n",
    "## Revision History\n",
    "\n",
    "* v1.0 | 30 March 2021 | First notebook revision.\n",
    "* v1.1 | 11 August 2021 | Update notebook to composable overlay API 1.0.0\n",
    "\n",
    "----"
   ]
  },
  {
   "cell_type": "markdown",
   "metadata": {},
   "source": [
    "## Download Composable Overlay <a class=\"anchor\" id=\"download\"></a>\n",
    "\n",
    "Import the pynq video libraries as well as Composable class and the drivers for the IP.\n",
    "\n",
    "Download the Composable Overlay using `pynq.Overlay` and grab a handler to the `composable` hierarchy"
   ]
  },
  {
   "cell_type": "code",
   "execution_count": 1,
   "metadata": {},
   "outputs": [
    {
     "data": {
      "application/javascript": [
       "\n",
       "try {\n",
       "require(['notebook/js/codecell'], function(codecell) {\n",
       "  codecell.CodeCell.options_default.highlight_modes[\n",
       "      'magic_text/x-csrc'] = {'reg':[/^%%microblaze/]};\n",
       "  Jupyter.notebook.events.one('kernel_ready.Kernel', function(){\n",
       "      Jupyter.notebook.get_cells().map(function(cell){\n",
       "          if (cell.cell_type == 'code'){ cell.auto_highlight(); } }) ;\n",
       "  });\n",
       "});\n",
       "} catch (e) {};\n"
      ]
     },
     "metadata": {},
     "output_type": "display_data"
    },
    {
     "data": {
      "application/javascript": [
       "\n",
       "try {\n",
       "require(['notebook/js/codecell'], function(codecell) {\n",
       "  codecell.CodeCell.options_default.highlight_modes[\n",
       "      'magic_text/x-csrc'] = {'reg':[/^%%pybind11/]};\n",
       "  Jupyter.notebook.events.one('kernel_ready.Kernel', function(){\n",
       "      Jupyter.notebook.get_cells().map(function(cell){\n",
       "          if (cell.cell_type == 'code'){ cell.auto_highlight(); } }) ;\n",
       "  });\n",
       "});\n",
       "} catch (e) {};\n"
      ]
     },
     "metadata": {},
     "output_type": "display_data"
    }
   ],
   "source": [
    "from pynq import Overlay\n",
    "from pynq.lib.video import *\n",
    "from  pynq_composable import *\n",
    "\n",
    "ol = Overlay(\"cv_dfx_4_pr.bit\")\n",
    "\n",
    "cpipe = ol.composable"
   ]
  },
  {
   "cell_type": "markdown",
   "metadata": {},
   "source": [
    "## Start HDMI Video <a class=\"anchor\" id=\"start_hdmi\"></a>\n",
    "\n",
    "Get `VideoStream` object and start video\n",
    "\n",
    "<div class=\"alert alert-heading alert-danger\">\n",
    "    <h4 class=\"alert-heading\">Warning:</h4>\n",
    "\n",
    "Failure to connect HDMI cables to a valid video source and screen may cause the notebook to hang\n",
    "</div>"
   ]
  },
  {
   "cell_type": "code",
   "execution_count": 2,
   "metadata": {},
   "outputs": [],
   "source": [
    "video = VideoStream(ol)\n",
    "video.start()"
   ]
  },
  {
   "cell_type": "markdown",
   "metadata": {},
   "source": [
    "## Load Dynamic IP <a class=\"anchor\" id=\"dynamic\"></a>\n",
    "\n",
    "The Composable Overlay provides DFX regions where IP can be loaded dynamically to bring new functionality. If we want to load an IP within a DFX region, the `.loadIP` method is used. \n",
    "\n",
    "Let us start by looking at the `.c_dict` to see what IP cores are loaded"
   ]
  },
  {
   "cell_type": "code",
   "execution_count": 3,
   "metadata": {},
   "outputs": [
    {
     "data": {
      "application/json": {
       "colorthresholding_accel [loaded]": {
        "ci": [
         14
        ],
        "dfx": false,
        "loaded": true,
        "modtype": "colorthresholding_accel",
        "pi": [
         14
        ]
       },
       "filter2d_accel [loaded]": {
        "ci": [
         5
        ],
        "dfx": false,
        "loaded": true,
        "modtype": "filter2d_accel",
        "pi": [
         5
        ]
       },
       "gray2rgb_accel [loaded]": {
        "ci": [
         3
        ],
        "dfx": false,
        "loaded": true,
        "modtype": "gray2rgb_accel",
        "pi": [
         3
        ]
       },
       "hdmi_sink_in [loaded][default]": {
        "ci": [
         1
        ],
        "default": true,
        "dfx": false,
        "fullpath": "video/hdmi_out/pixel_unpack",
        "loaded": true,
        "modtype": "pixel_unpack"
       },
       "hdmi_sink_out [loaded][default]": {
        "default": true,
        "dfx": false,
        "fullpath": "video/hdmi_out/color_convert",
        "loaded": true,
        "modtype": "color_convert",
        "pi": [
         1
        ]
       },
       "hdmi_source_in [loaded][default]": {
        "ci": [
         0
        ],
        "default": true,
        "dfx": false,
        "fullpath": "video/hdmi_in/color_convert",
        "loaded": true,
        "modtype": "color_convert"
       },
       "hdmi_source_out [loaded][default]": {
        "default": true,
        "dfx": false,
        "fullpath": "video/hdmi_in/pixel_pack",
        "loaded": true,
        "modtype": "pixel_pack",
        "pi": [
         0
        ]
       },
       "lut_accel [loaded]": {
        "ci": [
         13
        ],
        "dfx": false,
        "loaded": true,
        "modtype": "LUT_accel",
        "pi": [
         13
        ]
       },
       "rgb2gray_accel [loaded]": {
        "ci": [
         2
        ],
        "dfx": false,
        "loaded": true,
        "modtype": "rgb2gray_accel",
        "pi": [
         2
        ]
       },
       "rgb2hsv_accel [loaded]": {
        "ci": [
         4
        ],
        "dfx": false,
        "loaded": true,
        "modtype": "rgb2hsv_accel",
        "pi": [
         4
        ]
       }
      },
      "text/plain": [
       "{'rgb2gray_accel': {'ci': [2],\n",
       "  'dfx': False,\n",
       "  'loaded': True,\n",
       "  'modtype': 'rgb2gray_accel',\n",
       "  'pi': [2]},\n",
       " 'gray2rgb_accel': {'ci': [3],\n",
       "  'dfx': False,\n",
       "  'loaded': True,\n",
       "  'modtype': 'gray2rgb_accel',\n",
       "  'pi': [3]},\n",
       " 'rgb2hsv_accel': {'ci': [4],\n",
       "  'dfx': False,\n",
       "  'loaded': True,\n",
       "  'modtype': 'rgb2hsv_accel',\n",
       "  'pi': [4]},\n",
       " 'filter2d_accel': {'ci': [5],\n",
       "  'dfx': False,\n",
       "  'loaded': True,\n",
       "  'modtype': 'filter2d_accel',\n",
       "  'pi': [5]},\n",
       " 'lut_accel': {'ci': [13],\n",
       "  'dfx': False,\n",
       "  'loaded': True,\n",
       "  'modtype': 'LUT_accel',\n",
       "  'pi': [13]},\n",
       " 'colorthresholding_accel': {'ci': [14],\n",
       "  'dfx': False,\n",
       "  'loaded': True,\n",
       "  'modtype': 'colorthresholding_accel',\n",
       "  'pi': [14]},\n",
       " 'hdmi_source_in': {'ci': [0],\n",
       "  'dfx': False,\n",
       "  'loaded': True,\n",
       "  'modtype': 'color_convert',\n",
       "  'default': True,\n",
       "  'fullpath': 'video/hdmi_in/color_convert'},\n",
       " 'hdmi_source_out': {'pi': [0],\n",
       "  'dfx': False,\n",
       "  'loaded': True,\n",
       "  'modtype': 'pixel_pack',\n",
       "  'default': True,\n",
       "  'fullpath': 'video/hdmi_in/pixel_pack'},\n",
       " 'hdmi_sink_in': {'ci': [1],\n",
       "  'dfx': False,\n",
       "  'loaded': True,\n",
       "  'modtype': 'pixel_unpack',\n",
       "  'default': True,\n",
       "  'fullpath': 'video/hdmi_out/pixel_unpack'},\n",
       " 'hdmi_sink_out': {'pi': [1],\n",
       "  'dfx': False,\n",
       "  'loaded': True,\n",
       "  'modtype': 'color_convert',\n",
       "  'default': True,\n",
       "  'fullpath': 'video/hdmi_out/color_convert'}}"
      ]
     },
     "execution_count": 3,
     "metadata": {
      "application/json": {
       "expanded": false,
       "root": "composable"
      }
     },
     "output_type": "execute_result"
    }
   ],
   "source": [
    "cpipe.c_dict.loaded"
   ]
  },
  {
   "cell_type": "markdown",
   "metadata": {},
   "source": [
    "The documentation of `.loadIP` specify that IP can be loaded using the full name or the IP object"
   ]
  },
  {
   "cell_type": "code",
   "execution_count": 4,
   "metadata": {},
   "outputs": [
    {
     "data": {
      "text/plain": [
       "\u001b[0;31mSignature:\u001b[0m \u001b[0mcpipe\u001b[0m\u001b[0;34m.\u001b[0m\u001b[0mloadIP\u001b[0m\u001b[0;34m(\u001b[0m\u001b[0mdfx_list\u001b[0m\u001b[0;34m:\u001b[0m \u001b[0mlist\u001b[0m\u001b[0;34m)\u001b[0m \u001b[0;34m->\u001b[0m \u001b[0;32mNone\u001b[0m\u001b[0;34m\u001b[0m\u001b[0;34m\u001b[0m\u001b[0m\n",
       "\u001b[0;31mDocstring:\u001b[0m\n",
       "Download dfx IP onto the corresponding partial regions\n",
       "\n",
       "Parameters\n",
       "----------\n",
       "dfx_list: list\n",
       "    List of IP to be downloaded onto the dfx regions. The list can\n",
       "    contain either a string with the fullname or the IP object\n",
       "\n",
       "    Examples:\n",
       "        [cpipe.pr_0.fast_accel, cpipe.pr_1.dilate_accel]\n",
       "        ['pr_0/fast_accel', 'pr_1/dilate_accel']\n",
       "\u001b[0;31mFile:\u001b[0m      /usr/local/share/pynq-venv/lib/python3.8/site-packages/pynq_composable/composable.py\n",
       "\u001b[0;31mType:\u001b[0m      method\n"
      ]
     },
     "metadata": {},
     "output_type": "display_data"
    }
   ],
   "source": [
    "cpipe.loadIP?"
   ]
  },
  {
   "cell_type": "code",
   "execution_count": 5,
   "metadata": {},
   "outputs": [],
   "source": [
    "cpipe.loadIP([cpipe.pr_1.dilate_accel])"
   ]
  },
  {
   "cell_type": "markdown",
   "metadata": {},
   "source": [
    "Examine the `.c_dict` again and verify that `dilate_accel` and `erode_accel` are indeed loaded, both are in the same DFX region"
   ]
  },
  {
   "cell_type": "code",
   "execution_count": 6,
   "metadata": {},
   "outputs": [
    {
     "data": {
      "application/json": {
       "colorthresholding_accel [loaded]": {
        "ci": [
         14
        ],
        "dfx": false,
        "loaded": true,
        "modtype": "colorthresholding_accel",
        "pi": [
         14
        ]
       },
       "filter2d_accel [loaded]": {
        "ci": [
         5
        ],
        "dfx": false,
        "loaded": true,
        "modtype": "filter2d_accel",
        "pi": [
         5
        ]
       },
       "gray2rgb_accel [loaded]": {
        "ci": [
         3
        ],
        "dfx": false,
        "loaded": true,
        "modtype": "gray2rgb_accel",
        "pi": [
         3
        ]
       },
       "hdmi_sink_in [loaded][default]": {
        "ci": [
         1
        ],
        "default": true,
        "dfx": false,
        "fullpath": "video/hdmi_out/pixel_unpack",
        "loaded": true,
        "modtype": "pixel_unpack"
       },
       "hdmi_sink_out [loaded][default]": {
        "default": true,
        "dfx": false,
        "fullpath": "video/hdmi_out/color_convert",
        "loaded": true,
        "modtype": "color_convert",
        "pi": [
         1
        ]
       },
       "hdmi_source_in [loaded][default]": {
        "ci": [
         0
        ],
        "default": true,
        "dfx": false,
        "fullpath": "video/hdmi_in/color_convert",
        "loaded": true,
        "modtype": "color_convert"
       },
       "hdmi_source_out [loaded][default]": {
        "default": true,
        "dfx": false,
        "fullpath": "video/hdmi_in/pixel_pack",
        "loaded": true,
        "modtype": "pixel_pack",
        "pi": [
         0
        ]
       },
       "lut_accel [loaded]": {
        "ci": [
         13
        ],
        "dfx": false,
        "loaded": true,
        "modtype": "LUT_accel",
        "pi": [
         13
        ]
       },
       "pr_1/dilate_accel [loaded]": {
        "bitstream": "overlay/cv_dfx_4_pr_composable_pr_1_dilate_erode_partial.bit",
        "ci": [
         8
        ],
        "dfx": true,
        "loaded": true,
        "modtype": "dilate_accel",
        "pi": [
         8
        ]
       },
       "pr_1/erode_accel [loaded]": {
        "bitstream": "overlay/cv_dfx_4_pr_composable_pr_1_dilate_erode_partial.bit",
        "ci": [
         9
        ],
        "dfx": true,
        "loaded": true,
        "modtype": "erode_accel",
        "pi": [
         9
        ]
       },
       "rgb2gray_accel [loaded]": {
        "ci": [
         2
        ],
        "dfx": false,
        "loaded": true,
        "modtype": "rgb2gray_accel",
        "pi": [
         2
        ]
       },
       "rgb2hsv_accel [loaded]": {
        "ci": [
         4
        ],
        "dfx": false,
        "loaded": true,
        "modtype": "rgb2hsv_accel",
        "pi": [
         4
        ]
       }
      },
      "text/plain": [
       "{'rgb2gray_accel': {'ci': [2],\n",
       "  'dfx': False,\n",
       "  'loaded': True,\n",
       "  'modtype': 'rgb2gray_accel',\n",
       "  'pi': [2]},\n",
       " 'gray2rgb_accel': {'ci': [3],\n",
       "  'dfx': False,\n",
       "  'loaded': True,\n",
       "  'modtype': 'gray2rgb_accel',\n",
       "  'pi': [3]},\n",
       " 'rgb2hsv_accel': {'ci': [4],\n",
       "  'dfx': False,\n",
       "  'loaded': True,\n",
       "  'modtype': 'rgb2hsv_accel',\n",
       "  'pi': [4]},\n",
       " 'filter2d_accel': {'ci': [5],\n",
       "  'dfx': False,\n",
       "  'loaded': True,\n",
       "  'modtype': 'filter2d_accel',\n",
       "  'pi': [5]},\n",
       " 'lut_accel': {'ci': [13],\n",
       "  'dfx': False,\n",
       "  'loaded': True,\n",
       "  'modtype': 'LUT_accel',\n",
       "  'pi': [13]},\n",
       " 'colorthresholding_accel': {'ci': [14],\n",
       "  'dfx': False,\n",
       "  'loaded': True,\n",
       "  'modtype': 'colorthresholding_accel',\n",
       "  'pi': [14]},\n",
       " 'pr_1/dilate_accel': {'pi': [8],\n",
       "  'ci': [8],\n",
       "  'modtype': 'dilate_accel',\n",
       "  'bitstream': 'overlay/cv_dfx_4_pr_composable_pr_1_dilate_erode_partial.bit',\n",
       "  'dfx': True,\n",
       "  'loaded': True},\n",
       " 'pr_1/erode_accel': {'pi': [9],\n",
       "  'ci': [9],\n",
       "  'modtype': 'erode_accel',\n",
       "  'bitstream': 'overlay/cv_dfx_4_pr_composable_pr_1_dilate_erode_partial.bit',\n",
       "  'dfx': True,\n",
       "  'loaded': True},\n",
       " 'hdmi_source_in': {'ci': [0],\n",
       "  'dfx': False,\n",
       "  'loaded': True,\n",
       "  'modtype': 'color_convert',\n",
       "  'default': True,\n",
       "  'fullpath': 'video/hdmi_in/color_convert'},\n",
       " 'hdmi_source_out': {'pi': [0],\n",
       "  'dfx': False,\n",
       "  'loaded': True,\n",
       "  'modtype': 'pixel_pack',\n",
       "  'default': True,\n",
       "  'fullpath': 'video/hdmi_in/pixel_pack'},\n",
       " 'hdmi_sink_in': {'ci': [1],\n",
       "  'dfx': False,\n",
       "  'loaded': True,\n",
       "  'modtype': 'pixel_unpack',\n",
       "  'default': True,\n",
       "  'fullpath': 'video/hdmi_out/pixel_unpack'},\n",
       " 'hdmi_sink_out': {'pi': [1],\n",
       "  'dfx': False,\n",
       "  'loaded': True,\n",
       "  'modtype': 'color_convert',\n",
       "  'default': True,\n",
       "  'fullpath': 'video/hdmi_out/color_convert'}}"
      ]
     },
     "execution_count": 6,
     "metadata": {
      "application/json": {
       "expanded": false,
       "root": "composable"
      }
     },
     "output_type": "execute_result"
    }
   ],
   "source": [
    "cpipe.c_dict.loaded"
   ]
  },
  {
   "cell_type": "markdown",
   "metadata": {},
   "source": [
    "## Let us Compose <a class=\"anchor\" id=\"compose\"></a>\n",
    "\n",
    "Grab handlers to the dilate IP and compose"
   ]
  },
  {
   "cell_type": "code",
   "execution_count": 7,
   "metadata": {},
   "outputs": [],
   "source": [
    "dilate = cpipe.pr_1.dilate_accel"
   ]
  },
  {
   "cell_type": "code",
   "execution_count": 8,
   "metadata": {},
   "outputs": [
    {
     "data": {
      "image/svg+xml": [
       "<?xml version=\"1.0\" encoding=\"UTF-8\" standalone=\"no\"?>\n",
       "<!DOCTYPE svg PUBLIC \"-//W3C//DTD SVG 1.1//EN\"\n",
       " \"http://www.w3.org/Graphics/SVG/1.1/DTD/svg11.dtd\">\n",
       "<!-- Generated by graphviz version 2.43.0 (0)\n",
       " -->\n",
       "<!-- Title: %1 Pages: 1 -->\n",
       "<svg width=\"626pt\" height=\"44pt\"\n",
       " viewBox=\"0.00 0.00 626.00 44.00\" xmlns=\"http://www.w3.org/2000/svg\" xmlns:xlink=\"http://www.w3.org/1999/xlink\">\n",
       "<g id=\"graph0\" class=\"graph\" transform=\"scale(1 1) rotate(0) translate(4 40)\">\n",
       "<title>%1</title>\n",
       "<polygon fill=\"white\" stroke=\"transparent\" points=\"-4,4 -4,-40 622,-40 622,4 -4,4\"/>\n",
       "<!-- hdmi_source_in -->\n",
       "<g id=\"node1\" class=\"node\">\n",
       "<title>hdmi_source_in</title>\n",
       "<polygon fill=\"none\" stroke=\"black\" points=\"127,-36 0,-36 0,0 127,0 127,-36\"/>\n",
       "<text text-anchor=\"middle\" x=\"63.5\" y=\"-14.3\" font-family=\"Times,serif\" font-size=\"14.00\">hdmi_source_in</text>\n",
       "</g>\n",
       "<!-- pr_1/dilate_accel -->\n",
       "<g id=\"node2\" class=\"node\">\n",
       "<title>pr_1/dilate_accel</title>\n",
       "<polygon fill=\"cyan\" stroke=\"blue\" points=\"372,-36 236,-36 236,0 372,0 372,-36\"/>\n",
       "<text text-anchor=\"middle\" x=\"304\" y=\"-14.3\" font-family=\"Times,serif\" font-size=\"14.00\">pr_1/dilate_accel</text>\n",
       "</g>\n",
       "<!-- hdmi_source_in&#45;&gt;pr_1/dilate_accel -->\n",
       "<g id=\"edge1\" class=\"edge\">\n",
       "<title>hdmi_source_in&#45;&gt;pr_1/dilate_accel</title>\n",
       "<path fill=\"none\" stroke=\"green\" d=\"M127.16,-18C157.3,-18 193.72,-18 225.57,-18\"/>\n",
       "<polygon fill=\"green\" stroke=\"green\" points=\"225.74,-21.5 235.74,-18 225.74,-14.5 225.74,-21.5\"/>\n",
       "<text text-anchor=\"start\" x=\"145\" y=\"-21.8\" font-family=\"Times,serif\" font-size=\"14.00\" fill=\"white\">ci=0 pi=8</text>\n",
       "</g>\n",
       "<!-- hdmi_source_out -->\n",
       "<g id=\"node3\" class=\"node\">\n",
       "<title>hdmi_source_out</title>\n",
       "<polygon fill=\"none\" stroke=\"black\" points=\"618,-36 481,-36 481,0 618,0 618,-36\"/>\n",
       "<text text-anchor=\"middle\" x=\"549.5\" y=\"-14.3\" font-family=\"Times,serif\" font-size=\"14.00\">hdmi_source_out</text>\n",
       "</g>\n",
       "<!-- pr_1/dilate_accel&#45;&gt;hdmi_source_out -->\n",
       "<g id=\"edge2\" class=\"edge\">\n",
       "<title>pr_1/dilate_accel&#45;&gt;hdmi_source_out</title>\n",
       "<path fill=\"none\" stroke=\"green\" d=\"M372.18,-18C402.67,-18 438.91,-18 470.58,-18\"/>\n",
       "<polygon fill=\"green\" stroke=\"green\" points=\"470.69,-21.5 480.69,-18 470.69,-14.5 470.69,-21.5\"/>\n",
       "<text text-anchor=\"start\" x=\"390\" y=\"-21.8\" font-family=\"Times,serif\" font-size=\"14.00\" fill=\"white\">ci=8 pi=0</text>\n",
       "</g>\n",
       "</g>\n",
       "</svg>\n"
      ],
      "text/plain": [
       "<graphviz.graphs.Digraph at 0xa225c850>"
      ]
     },
     "execution_count": 8,
     "metadata": {},
     "output_type": "execute_result"
    }
   ],
   "source": [
    "cpipe.compose([cpipe.hdmi_source_in, dilate, cpipe.hdmi_source_out])\n",
    "\n",
    "cpipe.graph"
   ]
  },
  {
   "cell_type": "markdown",
   "metadata": {},
   "source": [
    "## Branched Pipeline <a class=\"anchor\" id=\"branched\"></a>\n",
    "\n",
    "In this part of the notebook, we will bring new functionality into the four DFX regions to compose the [Difference of Gaussians](https://en.wikipedia.org/wiki/Difference_of_Gaussians) application that was also introduced in the previous session. \n",
    "\n",
    "Load dynamic IP, grab handlers and set up default values"
   ]
  },
  {
   "cell_type": "code",
   "execution_count": 9,
   "metadata": {},
   "outputs": [],
   "source": [
    "cpipe.loadIP(['pr_fork/duplicate_accel', 'pr_join/subtract_accel', 'pr_0/filter2d_accel'])"
   ]
  },
  {
   "cell_type": "markdown",
   "metadata": {},
   "source": [
    "Grab handlers and configure filter2D with the gaussian filter"
   ]
  },
  {
   "cell_type": "code",
   "execution_count": 10,
   "metadata": {},
   "outputs": [],
   "source": [
    "filter2d = cpipe.filter2d_accel\n",
    "duplicate = cpipe.pr_fork.duplicate_accel\n",
    "subtract = cpipe.pr_join.subtract_accel\n",
    "fifo = cpipe.pr_0.axis_data_fifo_1\n",
    "filter2d_d = cpipe.pr_0.filter2d_accel\n",
    "\n",
    "filter2d.sigma = 0.3\n",
    "filter2d.kernel_type = xvF2d.gaussian_blur\n",
    "\n",
    "filter2d_d.sigma = 12\n",
    "filter2d_d.kernel_type = xvF2d.gaussian_blur"
   ]
  },
  {
   "cell_type": "markdown",
   "metadata": {},
   "source": [
    "The Difference of Gaussians is realized by subtracting one Gaussian blurred version of an original image from another less blurred version of the original. In the Composable Overlay this is achieved by branching the pipeline, which is expressed as a list of a list."
   ]
  },
  {
   "cell_type": "code",
   "execution_count": 11,
   "metadata": {},
   "outputs": [
    {
     "data": {
      "image/svg+xml": [
       "<?xml version=\"1.0\" encoding=\"UTF-8\" standalone=\"no\"?>\n",
       "<!DOCTYPE svg PUBLIC \"-//W3C//DTD SVG 1.1//EN\"\n",
       " \"http://www.w3.org/Graphics/SVG/1.1/DTD/svg11.dtd\">\n",
       "<!-- Generated by graphviz version 2.43.0 (0)\n",
       " -->\n",
       "<!-- Title: %1 Pages: 1 -->\n",
       "<svg width=\"1469pt\" height=\"79pt\"\n",
       " viewBox=\"0.00 0.00 1469.00 79.00\" xmlns=\"http://www.w3.org/2000/svg\" xmlns:xlink=\"http://www.w3.org/1999/xlink\">\n",
       "<g id=\"graph0\" class=\"graph\" transform=\"scale(1 1) rotate(0) translate(4 75)\">\n",
       "<title>%1</title>\n",
       "<polygon fill=\"white\" stroke=\"transparent\" points=\"-4,4 -4,-75 1465,-75 1465,4 -4,4\"/>\n",
       "<!-- hdmi_source_in -->\n",
       "<g id=\"node1\" class=\"node\">\n",
       "<title>hdmi_source_in</title>\n",
       "<polygon fill=\"none\" stroke=\"black\" points=\"127,-36 0,-36 0,0 127,0 127,-36\"/>\n",
       "<text text-anchor=\"middle\" x=\"63.5\" y=\"-14.3\" font-family=\"Times,serif\" font-size=\"14.00\">hdmi_source_in</text>\n",
       "</g>\n",
       "<!-- filter2d_accel -->\n",
       "<g id=\"node2\" class=\"node\">\n",
       "<title>filter2d_accel</title>\n",
       "<polygon fill=\"none\" stroke=\"black\" points=\"349,-36 236,-36 236,0 349,0 349,-36\"/>\n",
       "<text text-anchor=\"middle\" x=\"292.5\" y=\"-14.3\" font-family=\"Times,serif\" font-size=\"14.00\">filter2d_accel</text>\n",
       "</g>\n",
       "<!-- hdmi_source_in&#45;&gt;filter2d_accel -->\n",
       "<g id=\"edge1\" class=\"edge\">\n",
       "<title>hdmi_source_in&#45;&gt;filter2d_accel</title>\n",
       "<path fill=\"none\" stroke=\"green\" d=\"M127.13,-18C157.67,-18 194.4,-18 225.39,-18\"/>\n",
       "<polygon fill=\"green\" stroke=\"green\" points=\"225.66,-21.5 235.66,-18 225.66,-14.5 225.66,-21.5\"/>\n",
       "<text text-anchor=\"start\" x=\"145\" y=\"-21.8\" font-family=\"Times,serif\" font-size=\"14.00\" fill=\"white\">ci=0 pi=5</text>\n",
       "</g>\n",
       "<!-- pr_fork/duplicate_accel -->\n",
       "<g id=\"node3\" class=\"node\">\n",
       "<title>pr_fork/duplicate_accel</title>\n",
       "<polygon fill=\"cyan\" stroke=\"blue\" points=\"648,-36 467,-36 467,0 648,0 648,-36\"/>\n",
       "<text text-anchor=\"middle\" x=\"557.5\" y=\"-14.3\" font-family=\"Times,serif\" font-size=\"14.00\">pr_fork/duplicate_accel</text>\n",
       "</g>\n",
       "<!-- filter2d_accel&#45;&gt;pr_fork/duplicate_accel -->\n",
       "<g id=\"edge2\" class=\"edge\">\n",
       "<title>filter2d_accel&#45;&gt;pr_fork/duplicate_accel</title>\n",
       "<path fill=\"none\" stroke=\"green\" d=\"M349.28,-18C380.49,-18 420.35,-18 456.75,-18\"/>\n",
       "<polygon fill=\"green\" stroke=\"green\" points=\"456.92,-21.5 466.92,-18 456.92,-14.5 456.92,-21.5\"/>\n",
       "<text text-anchor=\"start\" x=\"367\" y=\"-21.8\" font-family=\"Times,serif\" font-size=\"14.00\" fill=\"white\">ci=5 pi=12</text>\n",
       "</g>\n",
       "<!-- pr_0/filter2d_accel -->\n",
       "<g id=\"node4\" class=\"node\">\n",
       "<title>pr_0/filter2d_accel</title>\n",
       "<polygon fill=\"cyan\" stroke=\"blue\" points=\"915,-71 766,-71 766,-35 915,-35 915,-71\"/>\n",
       "<text text-anchor=\"middle\" x=\"840.5\" y=\"-49.3\" font-family=\"Times,serif\" font-size=\"14.00\">pr_0/filter2d_accel</text>\n",
       "</g>\n",
       "<!-- pr_fork/duplicate_accel&#45;&gt;pr_0/filter2d_accel -->\n",
       "<g id=\"edge3\" class=\"edge\">\n",
       "<title>pr_fork/duplicate_accel&#45;&gt;pr_0/filter2d_accel</title>\n",
       "<path fill=\"none\" stroke=\"green\" d=\"M648.18,-29.17C682.53,-33.45 721.57,-38.31 755.38,-42.52\"/>\n",
       "<polygon fill=\"green\" stroke=\"green\" points=\"755.34,-46.04 765.7,-43.81 756.21,-39.1 755.34,-46.04\"/>\n",
       "<text text-anchor=\"start\" x=\"666\" y=\"-43.8\" font-family=\"Times,serif\" font-size=\"14.00\" fill=\"white\">ci=11 pi=6</text>\n",
       "</g>\n",
       "<!-- pr_join/subtract_accel -->\n",
       "<g id=\"node5\" class=\"node\">\n",
       "<title>pr_join/subtract_accel</title>\n",
       "<polygon fill=\"cyan\" stroke=\"blue\" points=\"1206,-36 1033,-36 1033,0 1206,0 1206,-36\"/>\n",
       "<text text-anchor=\"middle\" x=\"1119.5\" y=\"-14.3\" font-family=\"Times,serif\" font-size=\"14.00\">pr_join/subtract_accel</text>\n",
       "</g>\n",
       "<!-- pr_fork/duplicate_accel&#45;&gt;pr_join/subtract_accel -->\n",
       "<g id=\"edge4\" class=\"edge\">\n",
       "<title>pr_fork/duplicate_accel&#45;&gt;pr_join/subtract_accel</title>\n",
       "<path fill=\"none\" stroke=\"green\" d=\"M648.11,-14.32C684.66,-12.99 727.35,-11.65 766,-11 832.21,-9.88 848.79,-9.86 915,-11 950.07,-11.6 988.54,-12.79 1022.49,-14.02\"/>\n",
       "<polygon fill=\"green\" stroke=\"green\" points=\"1022.75,-17.53 1032.87,-14.4 1023,-10.54 1022.75,-17.53\"/>\n",
       "<text text-anchor=\"start\" x=\"795\" y=\"-14.8\" font-family=\"Times,serif\" font-size=\"14.00\" fill=\"white\">ci=12 pi=11</text>\n",
       "</g>\n",
       "<!-- pr_0/filter2d_accel&#45;&gt;pr_join/subtract_accel -->\n",
       "<g id=\"edge5\" class=\"edge\">\n",
       "<title>pr_0/filter2d_accel&#45;&gt;pr_join/subtract_accel</title>\n",
       "<path fill=\"none\" stroke=\"green\" d=\"M915,-43.71C947.97,-39.55 987.3,-34.58 1022.55,-30.12\"/>\n",
       "<polygon fill=\"green\" stroke=\"green\" points=\"1023.37,-33.55 1032.86,-28.82 1022.5,-26.6 1023.37,-33.55\"/>\n",
       "<text text-anchor=\"start\" x=\"933\" y=\"-43.8\" font-family=\"Times,serif\" font-size=\"14.00\" fill=\"white\">ci=6 pi=10</text>\n",
       "</g>\n",
       "<!-- hdmi_source_out -->\n",
       "<g id=\"node6\" class=\"node\">\n",
       "<title>hdmi_source_out</title>\n",
       "<polygon fill=\"none\" stroke=\"black\" points=\"1461,-36 1324,-36 1324,0 1461,0 1461,-36\"/>\n",
       "<text text-anchor=\"middle\" x=\"1392.5\" y=\"-14.3\" font-family=\"Times,serif\" font-size=\"14.00\">hdmi_source_out</text>\n",
       "</g>\n",
       "<!-- pr_join/subtract_accel&#45;&gt;hdmi_source_out -->\n",
       "<g id=\"edge6\" class=\"edge\">\n",
       "<title>pr_join/subtract_accel&#45;&gt;hdmi_source_out</title>\n",
       "<path fill=\"none\" stroke=\"green\" d=\"M1206.25,-18C1240.68,-18 1280.08,-18 1313.67,-18\"/>\n",
       "<polygon fill=\"green\" stroke=\"green\" points=\"1313.9,-21.5 1323.9,-18 1313.9,-14.5 1313.9,-21.5\"/>\n",
       "<text text-anchor=\"start\" x=\"1224\" y=\"-21.8\" font-family=\"Times,serif\" font-size=\"14.00\" fill=\"white\">ci=10 pi=0</text>\n",
       "</g>\n",
       "</g>\n",
       "</svg>\n"
      ],
      "text/plain": [
       "<graphviz.graphs.Digraph at 0xa22e5ac0>"
      ]
     },
     "execution_count": 11,
     "metadata": {},
     "output_type": "execute_result"
    }
   ],
   "source": [
    "video_pipeline = [cpipe.hdmi_source_in, filter2d, duplicate, [[filter2d_d], [1]], subtract, cpipe.hdmi_source_out]\n",
    "\n",
    "cpipe.compose(video_pipeline)\n",
    "\n",
    "cpipe.graph"
   ]
  },
  {
   "cell_type": "markdown",
   "metadata": {},
   "source": [
    "## Conflicting Dynamic IP <a class=\"anchor\" id=\"conflicting\"></a>\n",
    "\n",
    "Note that IP within the DFX regions are often mutually exclusive (some partial bitstreams support multiple IP within the DFX region), this means that they cannot be loaded at the same time. The `.loadIP` will raise an exception in these cases, try it by yourself running the following cell"
   ]
  },
  {
   "cell_type": "code",
   "execution_count": 12,
   "metadata": {},
   "outputs": [
    {
     "ename": "SystemError",
     "evalue": "'cv_dfx_4_pr_composable_pr_fork_duplicate_partial.bit' and 'cv_dfx_4_pr_composable_pr_fork_rgb2xyz_partial.bit' bitstreams cannot be loaded into the same DFX  region 'pr_fork' at the same time",
     "output_type": "error",
     "traceback": [
      "\u001b[0;31m---------------------------------------------------------------------------\u001b[0m",
      "\u001b[0;31mSystemError\u001b[0m                               Traceback (most recent call last)",
      "\u001b[0;32m<ipython-input-12-4a38f0c32419>\u001b[0m in \u001b[0;36m<module>\u001b[0;34m\u001b[0m\n\u001b[0;32m----> 1\u001b[0;31m \u001b[0mcpipe\u001b[0m\u001b[0;34m.\u001b[0m\u001b[0mloadIP\u001b[0m\u001b[0;34m(\u001b[0m\u001b[0;34m[\u001b[0m\u001b[0;34m'pr_fork/duplicate_accel'\u001b[0m\u001b[0;34m,\u001b[0m \u001b[0;34m'pr_fork/rgb2xyz_accel'\u001b[0m\u001b[0;34m]\u001b[0m\u001b[0;34m)\u001b[0m\u001b[0;34m\u001b[0m\u001b[0;34m\u001b[0m\u001b[0m\n\u001b[0m",
      "\u001b[0;32m/usr/local/share/pynq-venv/lib/python3.8/site-packages/pynq_composable/composable.py\u001b[0m in \u001b[0;36mloadIP\u001b[0;34m(self, dfx_list)\u001b[0m\n\u001b[1;32m    538\u001b[0m                             \u001b[0mself\u001b[0m\u001b[0;34m.\u001b[0m\u001b[0m_c_dict\u001b[0m\u001b[0;34m[\u001b[0m\u001b[0mfullpath\u001b[0m\u001b[0;34m]\u001b[0m\u001b[0;34m[\u001b[0m\u001b[0;34m'loaded'\u001b[0m\u001b[0;34m]\u001b[0m\u001b[0;34m\u001b[0m\u001b[0;34m\u001b[0m\u001b[0m\n\u001b[1;32m    539\u001b[0m                     \u001b[0;32melif\u001b[0m \u001b[0mbit_dict\u001b[0m\u001b[0;34m[\u001b[0m\u001b[0mpr\u001b[0m\u001b[0;34m]\u001b[0m\u001b[0;34m[\u001b[0m\u001b[0;34m'bitstream'\u001b[0m\u001b[0;34m]\u001b[0m \u001b[0;34m!=\u001b[0m \u001b[0mbitname\u001b[0m\u001b[0;34m:\u001b[0m\u001b[0;34m\u001b[0m\u001b[0;34m\u001b[0m\u001b[0m\n\u001b[0;32m--> 540\u001b[0;31m                         raise SystemError(\"\\'{}\\' and \\'{}\\' bitstreams cannot\"\n\u001b[0m\u001b[1;32m    541\u001b[0m                                           \u001b[0;34m\" be loaded into the same DFX \"\u001b[0m\u001b[0;34m\u001b[0m\u001b[0;34m\u001b[0m\u001b[0m\n\u001b[1;32m    542\u001b[0m                                           \u001b[0;34m\" region \\'{}\\' at the same time\"\u001b[0m\u001b[0;34m\u001b[0m\u001b[0;34m\u001b[0m\u001b[0m\n",
      "\u001b[0;31mSystemError\u001b[0m: 'cv_dfx_4_pr_composable_pr_fork_duplicate_partial.bit' and 'cv_dfx_4_pr_composable_pr_fork_rgb2xyz_partial.bit' bitstreams cannot be loaded into the same DFX  region 'pr_fork' at the same time"
     ]
    }
   ],
   "source": [
    "cpipe.loadIP(['pr_fork/duplicate_accel', 'pr_fork/rgb2xyz_accel'])"
   ]
  },
  {
   "cell_type": "markdown",
   "metadata": {},
   "source": [
    "<div class=\"alert alert-info\">\n",
    "  <strong>Info!</strong> Use the <strong>dfx_dict</strong> attribute to identify which IP are mutually exclusive\n",
    "</div>"
   ]
  },
  {
   "cell_type": "markdown",
   "metadata": {},
   "source": [
    "## Stop HDMI Video <a class=\"anchor\" id=\"stop_hdmi\"></a>\n",
    "\n",
    "Finally stop the HDMI video pipeline\n",
    "\n",
    "<div class=\"alert alert-heading alert-danger\">\n",
    "    <h4 class=\"alert-heading\">Warning:</h4>\n",
    "\n",
    "Failure to stop the HDMI Video may hang the board \n",
    "when trying to download another bitstream onto the FPGA\n",
    "</div>"
   ]
  },
  {
   "cell_type": "code",
   "execution_count": null,
   "metadata": {},
   "outputs": [],
   "source": [
    "video.stop()\n",
    "ol.free()"
   ]
  },
  {
   "cell_type": "markdown",
   "metadata": {},
   "source": [
    "----\n",
    "\n",
    "## Conclusion <a class=\"anchor\" id=\"conclusion\"></a>\n",
    "\n",
    "This notebook has shown how to bring new functionality to the composable overlay by loading dynamic IP. Moreover, the notebook shows how to implement a branched pipeline.\n",
    "\n",
    "[⬅️ Modify Composable Pipeline](04_modify_pipeline.ipynb) | | [Build Custom Application ➡️](06_build_application.ipynb)"
   ]
  },
  {
   "cell_type": "markdown",
   "metadata": {},
   "source": [
    "Copyright &copy; 2021 Xilinx, Inc\n",
    "\n",
    "SPDX-License-Identifier: BSD-3-Clause\n",
    "\n",
    "----"
   ]
  }
 ],
 "metadata": {
  "kernelspec": {
   "display_name": "Python 3",
   "language": "python",
   "name": "python3"
  },
  "language_info": {
   "codemirror_mode": {
    "name": "ipython",
    "version": 3
   },
   "file_extension": ".py",
   "mimetype": "text/x-python",
   "name": "python",
   "nbconvert_exporter": "python",
   "pygments_lexer": "ipython3",
   "version": "3.8.2"
  },
  "widgets": {
   "application/vnd.jupyter.widget-state+json": {
    "state": {},
    "version_major": 2,
    "version_minor": 0
   }
  }
 },
 "nbformat": 4,
 "nbformat_minor": 4
}
