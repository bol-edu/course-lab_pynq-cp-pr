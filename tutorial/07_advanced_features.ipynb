{
 "cells": [
  {
   "cell_type": "markdown",
   "metadata": {},
   "source": [
    "# Advanced Features\n",
    "----\n",
    "\n",
    "<div class=\"alert alert-box alert-info\">\n",
    "Please use Jupyter labs http://&lt;board_ip_address&gt;/lab for this notebook.\n",
    "</div>\n",
    "\n",
    "This notebook shows some advanced features in the composable overlay API, which can be very helpful when you design your own composable overlay\n",
    "\n",
    "## Aims\n",
    "* Show advance features of the API\n",
    "\n",
    "## Table of Contents\n",
    "* [Download Composable Overlay](#download)\n",
    "* [Enable Graph Debug](#debug)\n",
    "* [Let us Compose](#compose)\n",
    "* [Visualize the Pipeline](#visualize)\n",
    "* [Set Graph Direction](#direction)\n",
    "* [AXI4-Stream Switch](#switch)\n",
    "* [Conclusion](#conclusion)\n",
    "\n",
    "----\n",
    "\n",
    "## Revision History\n",
    "\n",
    "* v1.0 | 30 March 2021 | First notebook revision.\n",
    "* v1.1 | 11 August 2021 | Update notebook to composable overlay API 1.0.0\n",
    "\n",
    "----"
   ]
  },
  {
   "cell_type": "markdown",
   "metadata": {},
   "source": [
    "## Download Composable Overlay <a class=\"anchor\" id=\"download\"></a>\n",
    "\n",
    "Import the pynq video libraries as well as Composable class and the drivers for the IP.\n",
    "\n",
    "Download the Composable Overlay using `pynq.Overlay` and grab a handler to the `composable` hierarchy"
   ]
  },
  {
   "cell_type": "code",
   "execution_count": 1,
   "metadata": {},
   "outputs": [
    {
     "data": {
      "application/javascript": [
       "\n",
       "try {\n",
       "require(['notebook/js/codecell'], function(codecell) {\n",
       "  codecell.CodeCell.options_default.highlight_modes[\n",
       "      'magic_text/x-csrc'] = {'reg':[/^%%microblaze/]};\n",
       "  Jupyter.notebook.events.one('kernel_ready.Kernel', function(){\n",
       "      Jupyter.notebook.get_cells().map(function(cell){\n",
       "          if (cell.cell_type == 'code'){ cell.auto_highlight(); } }) ;\n",
       "  });\n",
       "});\n",
       "} catch (e) {};\n"
      ]
     },
     "metadata": {},
     "output_type": "display_data"
    },
    {
     "data": {
      "application/javascript": [
       "\n",
       "try {\n",
       "require(['notebook/js/codecell'], function(codecell) {\n",
       "  codecell.CodeCell.options_default.highlight_modes[\n",
       "      'magic_text/x-csrc'] = {'reg':[/^%%pybind11/]};\n",
       "  Jupyter.notebook.events.one('kernel_ready.Kernel', function(){\n",
       "      Jupyter.notebook.get_cells().map(function(cell){\n",
       "          if (cell.cell_type == 'code'){ cell.auto_highlight(); } }) ;\n",
       "  });\n",
       "});\n",
       "} catch (e) {};\n"
      ]
     },
     "metadata": {},
     "output_type": "display_data"
    }
   ],
   "source": [
    "from pynq import Overlay\n",
    "from pynq.lib.video import *\n",
    "from pynq_composable import *\n",
    "\n",
    "ol = Overlay(\"cv_dfx_4_pr.bit\")\n",
    "\n",
    "cpipe = ol.composable"
   ]
  },
  {
   "cell_type": "markdown",
   "metadata": {},
   "source": [
    "## Enable Graph Debug <a class=\"anchor\" id=\"debug\"></a>\n",
    "\n",
    "This attribute will enable debug mode in the graph. With this attribute enabled, the graph displays the consumer and producer interfaces the IP objects are connected to/from."
   ]
  },
  {
   "cell_type": "code",
   "execution_count": 2,
   "metadata": {},
   "outputs": [],
   "source": [
    "cpipe._graph_debug = True"
   ]
  },
  {
   "cell_type": "markdown",
   "metadata": {},
   "source": [
    "## Let us Compose <a class=\"anchor\" id=\"compose\"></a>\n",
    "\n",
    "First we need to grab handlers to the IP objects to simplify the notebook"
   ]
  },
  {
   "cell_type": "code",
   "execution_count": 3,
   "metadata": {},
   "outputs": [],
   "source": [
    "filter2d = cpipe.filter2d_accel\n",
    "rgb2hsv = cpipe.rgb2hsv_accel\n",
    "gray2rgb = cpipe.gray2rgb_accel\n",
    "lut = cpipe.lut_accel"
   ]
  },
  {
   "cell_type": "code",
   "execution_count": 4,
   "metadata": {},
   "outputs": [],
   "source": [
    "video_pipeline = [cpipe.hdmi_source_in, lut, rgb2hsv, gray2rgb, filter2d, cpipe.hdmi_source_out]\n",
    "\n",
    "cpipe.compose(video_pipeline)"
   ]
  },
  {
   "cell_type": "markdown",
   "metadata": {},
   "source": [
    "## Visualize the Pipeline <a class=\"anchor\" id=\"visualize\"></a>\n",
    "\n",
    "We can visualize the implemented pipeline with the `.graph` attribute. This allows to quickly verify the pipeline, and since debug is enabled extra information is shown"
   ]
  },
  {
   "cell_type": "code",
   "execution_count": 5,
   "metadata": {},
   "outputs": [
    {
     "data": {
      "image/svg+xml": [
       "<?xml version=\"1.0\" encoding=\"UTF-8\" standalone=\"no\"?>\n",
       "<!DOCTYPE svg PUBLIC \"-//W3C//DTD SVG 1.1//EN\"\n",
       " \"http://www.w3.org/Graphics/SVG/1.1/DTD/svg11.dtd\">\n",
       "<!-- Generated by graphviz version 2.43.0 (0)\n",
       " -->\n",
       "<!-- Title: %1 Pages: 1 -->\n",
       "<svg width=\"1270pt\" height=\"44pt\"\n",
       " viewBox=\"0.00 0.00 1270.00 44.00\" xmlns=\"http://www.w3.org/2000/svg\" xmlns:xlink=\"http://www.w3.org/1999/xlink\">\n",
       "<g id=\"graph0\" class=\"graph\" transform=\"scale(1 1) rotate(0) translate(4 40)\">\n",
       "<title>%1</title>\n",
       "<polygon fill=\"white\" stroke=\"transparent\" points=\"-4,4 -4,-40 1266,-40 1266,4 -4,4\"/>\n",
       "<!-- hdmi_source_in -->\n",
       "<g id=\"node1\" class=\"node\">\n",
       "<title>hdmi_source_in</title>\n",
       "<polygon fill=\"none\" stroke=\"black\" points=\"127,-36 0,-36 0,0 127,0 127,-36\"/>\n",
       "<text text-anchor=\"middle\" x=\"63.5\" y=\"-14.3\" font-family=\"Times,serif\" font-size=\"14.00\">hdmi_source_in</text>\n",
       "</g>\n",
       "<!-- lut_accel -->\n",
       "<g id=\"node2\" class=\"node\">\n",
       "<title>lut_accel</title>\n",
       "<polygon fill=\"none\" stroke=\"black\" points=\"324,-36 245,-36 245,0 324,0 324,-36\"/>\n",
       "<text text-anchor=\"middle\" x=\"284.5\" y=\"-14.3\" font-family=\"Times,serif\" font-size=\"14.00\">lut_accel</text>\n",
       "</g>\n",
       "<!-- hdmi_source_in&#45;&gt;lut_accel -->\n",
       "<g id=\"edge1\" class=\"edge\">\n",
       "<title>hdmi_source_in&#45;&gt;lut_accel</title>\n",
       "<path fill=\"none\" stroke=\"green\" d=\"M127.26,-18C161.32,-18 202.82,-18 234.49,-18\"/>\n",
       "<polygon fill=\"green\" stroke=\"green\" points=\"234.82,-21.5 244.82,-18 234.82,-14.5 234.82,-21.5\"/>\n",
       "<text text-anchor=\"start\" x=\"145\" y=\"-21.8\" font-family=\"Times,serif\" font-size=\"14.00\" fill=\"green\">ci=0 pi=13</text>\n",
       "</g>\n",
       "<!-- rgb2hsv_accel -->\n",
       "<g id=\"node3\" class=\"node\">\n",
       "<title>rgb2hsv_accel</title>\n",
       "<polygon fill=\"none\" stroke=\"black\" points=\"560,-36 442,-36 442,0 560,0 560,-36\"/>\n",
       "<text text-anchor=\"middle\" x=\"501\" y=\"-14.3\" font-family=\"Times,serif\" font-size=\"14.00\">rgb2hsv_accel</text>\n",
       "</g>\n",
       "<!-- lut_accel&#45;&gt;rgb2hsv_accel -->\n",
       "<g id=\"edge2\" class=\"edge\">\n",
       "<title>lut_accel&#45;&gt;rgb2hsv_accel</title>\n",
       "<path fill=\"none\" stroke=\"green\" d=\"M324.34,-18C354.12,-18 395.98,-18 431.36,-18\"/>\n",
       "<polygon fill=\"green\" stroke=\"green\" points=\"431.63,-21.5 441.63,-18 431.63,-14.5 431.63,-21.5\"/>\n",
       "<text text-anchor=\"start\" x=\"342\" y=\"-21.8\" font-family=\"Times,serif\" font-size=\"14.00\" fill=\"green\">ci=13 pi=4</text>\n",
       "</g>\n",
       "<!-- gray2rgb_accel -->\n",
       "<g id=\"node4\" class=\"node\">\n",
       "<title>gray2rgb_accel</title>\n",
       "<polygon fill=\"none\" stroke=\"black\" points=\"794,-36 669,-36 669,0 794,0 794,-36\"/>\n",
       "<text text-anchor=\"middle\" x=\"731.5\" y=\"-14.3\" font-family=\"Times,serif\" font-size=\"14.00\">gray2rgb_accel</text>\n",
       "</g>\n",
       "<!-- rgb2hsv_accel&#45;&gt;gray2rgb_accel -->\n",
       "<g id=\"edge3\" class=\"edge\">\n",
       "<title>rgb2hsv_accel&#45;&gt;gray2rgb_accel</title>\n",
       "<path fill=\"none\" stroke=\"green\" d=\"M560.25,-18C590.2,-18 626.97,-18 658.66,-18\"/>\n",
       "<polygon fill=\"green\" stroke=\"green\" points=\"658.76,-21.5 668.76,-18 658.76,-14.5 658.76,-21.5\"/>\n",
       "<text text-anchor=\"start\" x=\"578\" y=\"-21.8\" font-family=\"Times,serif\" font-size=\"14.00\" fill=\"green\">ci=4 pi=3</text>\n",
       "</g>\n",
       "<!-- filter2d_accel -->\n",
       "<g id=\"node5\" class=\"node\">\n",
       "<title>filter2d_accel</title>\n",
       "<polygon fill=\"none\" stroke=\"black\" points=\"1016,-36 903,-36 903,0 1016,0 1016,-36\"/>\n",
       "<text text-anchor=\"middle\" x=\"959.5\" y=\"-14.3\" font-family=\"Times,serif\" font-size=\"14.00\">filter2d_accel</text>\n",
       "</g>\n",
       "<!-- gray2rgb_accel&#45;&gt;filter2d_accel -->\n",
       "<g id=\"edge4\" class=\"edge\">\n",
       "<title>gray2rgb_accel&#45;&gt;filter2d_accel</title>\n",
       "<path fill=\"none\" stroke=\"green\" d=\"M794.26,-18C824.78,-18 861.64,-18 892.7,-18\"/>\n",
       "<polygon fill=\"green\" stroke=\"green\" points=\"893,-21.5 903,-18 893,-14.5 893,-21.5\"/>\n",
       "<text text-anchor=\"start\" x=\"812\" y=\"-21.8\" font-family=\"Times,serif\" font-size=\"14.00\" fill=\"green\">ci=3 pi=5</text>\n",
       "</g>\n",
       "<!-- hdmi_source_out -->\n",
       "<g id=\"node6\" class=\"node\">\n",
       "<title>hdmi_source_out</title>\n",
       "<polygon fill=\"none\" stroke=\"black\" points=\"1262,-36 1125,-36 1125,0 1262,0 1262,-36\"/>\n",
       "<text text-anchor=\"middle\" x=\"1193.5\" y=\"-14.3\" font-family=\"Times,serif\" font-size=\"14.00\">hdmi_source_out</text>\n",
       "</g>\n",
       "<!-- filter2d_accel&#45;&gt;hdmi_source_out -->\n",
       "<g id=\"edge5\" class=\"edge\">\n",
       "<title>filter2d_accel&#45;&gt;hdmi_source_out</title>\n",
       "<path fill=\"none\" stroke=\"green\" d=\"M1016.07,-18C1045.58,-18 1082.34,-18 1114.65,-18\"/>\n",
       "<polygon fill=\"green\" stroke=\"green\" points=\"1114.97,-21.5 1124.97,-18 1114.97,-14.5 1114.97,-21.5\"/>\n",
       "<text text-anchor=\"start\" x=\"1034\" y=\"-21.8\" font-family=\"Times,serif\" font-size=\"14.00\" fill=\"green\">ci=5 pi=0</text>\n",
       "</g>\n",
       "</g>\n",
       "</svg>\n"
      ],
      "text/plain": [
       "<graphviz.graphs.Digraph at 0xb3fcdb68>"
      ]
     },
     "execution_count": 5,
     "metadata": {},
     "output_type": "execute_result"
    }
   ],
   "source": [
    "cpipe.graph"
   ]
  },
  {
   "cell_type": "markdown",
   "metadata": {},
   "source": [
    "## Set Graph Direction <a class=\"anchor\" id=\"direction\"></a>\n",
    "\n",
    "You can set the direction of graph layout using the `rankdir` [attribute](https://graphviz.org/doc/info/attrs.html#k:rankdir).\n",
    "\n",
    "Valid values are `TB` (Top to Bottom), `LR` (Left to Right) **default**, `BT` (Bottom to Top) and `RL` (Right to Left)"
   ]
  },
  {
   "cell_type": "code",
   "execution_count": 6,
   "metadata": {},
   "outputs": [],
   "source": [
    "cpipe.graph.graph_attr['rankdir'] = 'BT'"
   ]
  },
  {
   "cell_type": "code",
   "execution_count": 7,
   "metadata": {},
   "outputs": [
    {
     "data": {
      "image/svg+xml": [
       "<?xml version=\"1.0\" encoding=\"UTF-8\" standalone=\"no\"?>\n",
       "<!DOCTYPE svg PUBLIC \"-//W3C//DTD SVG 1.1//EN\"\n",
       " \"http://www.w3.org/Graphics/SVG/1.1/DTD/svg11.dtd\">\n",
       "<!-- Generated by graphviz version 2.43.0 (0)\n",
       " -->\n",
       "<!-- Title: %1 Pages: 1 -->\n",
       "<svg width=\"159pt\" height=\"479pt\"\n",
       " viewBox=\"0.00 0.00 158.50 479.00\" xmlns=\"http://www.w3.org/2000/svg\" xmlns:xlink=\"http://www.w3.org/1999/xlink\">\n",
       "<g id=\"graph0\" class=\"graph\" transform=\"scale(1 1) rotate(0) translate(4 475)\">\n",
       "<title>%1</title>\n",
       "<polygon fill=\"white\" stroke=\"transparent\" points=\"-4,4 -4,-475 154.5,-475 154.5,4 -4,4\"/>\n",
       "<!-- hdmi_source_in -->\n",
       "<g id=\"node1\" class=\"node\">\n",
       "<title>hdmi_source_in</title>\n",
       "<polygon fill=\"none\" stroke=\"black\" points=\"132,-36 5,-36 5,0 132,0 132,-36\"/>\n",
       "<text text-anchor=\"middle\" x=\"68.5\" y=\"-14.3\" font-family=\"Times,serif\" font-size=\"14.00\">hdmi_source_in</text>\n",
       "</g>\n",
       "<!-- lut_accel -->\n",
       "<g id=\"node2\" class=\"node\">\n",
       "<title>lut_accel</title>\n",
       "<polygon fill=\"none\" stroke=\"black\" points=\"108,-123 29,-123 29,-87 108,-87 108,-123\"/>\n",
       "<text text-anchor=\"middle\" x=\"68.5\" y=\"-101.3\" font-family=\"Times,serif\" font-size=\"14.00\">lut_accel</text>\n",
       "</g>\n",
       "<!-- hdmi_source_in&#45;&gt;lut_accel -->\n",
       "<g id=\"edge1\" class=\"edge\">\n",
       "<title>hdmi_source_in&#45;&gt;lut_accel</title>\n",
       "<path fill=\"none\" stroke=\"green\" d=\"M68.5,-36.2C68.5,-47.84 68.5,-63.45 68.5,-76.76\"/>\n",
       "<polygon fill=\"green\" stroke=\"green\" points=\"65,-76.82 68.5,-86.82 72,-76.82 65,-76.82\"/>\n",
       "<text text-anchor=\"start\" x=\"68.5\" y=\"-57.8\" font-family=\"Times,serif\" font-size=\"14.00\" fill=\"green\">ci=0 pi=13</text>\n",
       "</g>\n",
       "<!-- rgb2hsv_accel -->\n",
       "<g id=\"node3\" class=\"node\">\n",
       "<title>rgb2hsv_accel</title>\n",
       "<polygon fill=\"none\" stroke=\"black\" points=\"127.5,-210 9.5,-210 9.5,-174 127.5,-174 127.5,-210\"/>\n",
       "<text text-anchor=\"middle\" x=\"68.5\" y=\"-188.3\" font-family=\"Times,serif\" font-size=\"14.00\">rgb2hsv_accel</text>\n",
       "</g>\n",
       "<!-- lut_accel&#45;&gt;rgb2hsv_accel -->\n",
       "<g id=\"edge2\" class=\"edge\">\n",
       "<title>lut_accel&#45;&gt;rgb2hsv_accel</title>\n",
       "<path fill=\"none\" stroke=\"green\" d=\"M68.5,-123.2C68.5,-134.84 68.5,-150.45 68.5,-163.76\"/>\n",
       "<polygon fill=\"green\" stroke=\"green\" points=\"65,-163.82 68.5,-173.82 72,-163.82 65,-163.82\"/>\n",
       "<text text-anchor=\"start\" x=\"68.5\" y=\"-144.8\" font-family=\"Times,serif\" font-size=\"14.00\" fill=\"green\">ci=13 pi=4</text>\n",
       "</g>\n",
       "<!-- gray2rgb_accel -->\n",
       "<g id=\"node4\" class=\"node\">\n",
       "<title>gray2rgb_accel</title>\n",
       "<polygon fill=\"none\" stroke=\"black\" points=\"131,-297 6,-297 6,-261 131,-261 131,-297\"/>\n",
       "<text text-anchor=\"middle\" x=\"68.5\" y=\"-275.3\" font-family=\"Times,serif\" font-size=\"14.00\">gray2rgb_accel</text>\n",
       "</g>\n",
       "<!-- rgb2hsv_accel&#45;&gt;gray2rgb_accel -->\n",
       "<g id=\"edge3\" class=\"edge\">\n",
       "<title>rgb2hsv_accel&#45;&gt;gray2rgb_accel</title>\n",
       "<path fill=\"none\" stroke=\"green\" d=\"M68.5,-210.2C68.5,-221.84 68.5,-237.45 68.5,-250.76\"/>\n",
       "<polygon fill=\"green\" stroke=\"green\" points=\"65,-250.82 68.5,-260.82 72,-250.82 65,-250.82\"/>\n",
       "<text text-anchor=\"start\" x=\"68.5\" y=\"-231.8\" font-family=\"Times,serif\" font-size=\"14.00\" fill=\"green\">ci=4 pi=3</text>\n",
       "</g>\n",
       "<!-- filter2d_accel -->\n",
       "<g id=\"node5\" class=\"node\">\n",
       "<title>filter2d_accel</title>\n",
       "<polygon fill=\"none\" stroke=\"black\" points=\"125,-384 12,-384 12,-348 125,-348 125,-384\"/>\n",
       "<text text-anchor=\"middle\" x=\"68.5\" y=\"-362.3\" font-family=\"Times,serif\" font-size=\"14.00\">filter2d_accel</text>\n",
       "</g>\n",
       "<!-- gray2rgb_accel&#45;&gt;filter2d_accel -->\n",
       "<g id=\"edge4\" class=\"edge\">\n",
       "<title>gray2rgb_accel&#45;&gt;filter2d_accel</title>\n",
       "<path fill=\"none\" stroke=\"green\" d=\"M68.5,-297.2C68.5,-308.84 68.5,-324.45 68.5,-337.76\"/>\n",
       "<polygon fill=\"green\" stroke=\"green\" points=\"65,-337.82 68.5,-347.82 72,-337.82 65,-337.82\"/>\n",
       "<text text-anchor=\"start\" x=\"68.5\" y=\"-318.8\" font-family=\"Times,serif\" font-size=\"14.00\" fill=\"green\">ci=3 pi=5</text>\n",
       "</g>\n",
       "<!-- hdmi_source_out -->\n",
       "<g id=\"node6\" class=\"node\">\n",
       "<title>hdmi_source_out</title>\n",
       "<polygon fill=\"none\" stroke=\"black\" points=\"137,-471 0,-471 0,-435 137,-435 137,-471\"/>\n",
       "<text text-anchor=\"middle\" x=\"68.5\" y=\"-449.3\" font-family=\"Times,serif\" font-size=\"14.00\">hdmi_source_out</text>\n",
       "</g>\n",
       "<!-- filter2d_accel&#45;&gt;hdmi_source_out -->\n",
       "<g id=\"edge5\" class=\"edge\">\n",
       "<title>filter2d_accel&#45;&gt;hdmi_source_out</title>\n",
       "<path fill=\"none\" stroke=\"green\" d=\"M68.5,-384.2C68.5,-395.84 68.5,-411.45 68.5,-424.76\"/>\n",
       "<polygon fill=\"green\" stroke=\"green\" points=\"65,-424.82 68.5,-434.82 72,-424.82 65,-424.82\"/>\n",
       "<text text-anchor=\"start\" x=\"68.5\" y=\"-405.8\" font-family=\"Times,serif\" font-size=\"14.00\" fill=\"green\">ci=5 pi=0</text>\n",
       "</g>\n",
       "</g>\n",
       "</svg>\n"
      ],
      "text/plain": [
       "<graphviz.graphs.Digraph at 0xb3fcdb68>"
      ]
     },
     "execution_count": 7,
     "metadata": {},
     "output_type": "execute_result"
    }
   ],
   "source": [
    "cpipe.graph"
   ]
  },
  {
   "cell_type": "markdown",
   "metadata": {},
   "source": [
    "## AXI4-Stream Switch <a class=\"anchor\" id=\"switch\"></a>\n",
    "\n",
    "The AXI4-Stream Switch is the core of the composable overlay. The AXI4-Stream Switch has a unique register (PIx_MUX) for each producer interface port. Each PIx_MUX value controls the consumer interface selection. \n",
    "\n",
    "![](../img/mi_mux_reg.png)\n",
    "\n",
    "Read the documentation of the python driver that controls the AXI4-Stream Switch"
   ]
  },
  {
   "cell_type": "code",
   "execution_count": 8,
   "metadata": {},
   "outputs": [
    {
     "data": {
      "text/plain": [
       "\u001b[0;31mType:\u001b[0m        StreamSwitch\n",
       "\u001b[0;31mString form:\u001b[0m <pynq_composable.switch.StreamSwitch object at 0xb5070f58>\n",
       "\u001b[0;31mFile:\u001b[0m        /usr/local/share/pynq-venv/lib/python3.8/site-packages/pynq_composable/switch.py\n",
       "\u001b[0;31mDocstring:\u001b[0m  \n",
       "AXI4-Stream Switch python driver\n",
       "\n",
       "This class provides the driver to control an AXI4-Stream Switch\n",
       "which uses the AXI4-Lite interfaces to specify the routing table.\n",
       "This routing mode requires that there is precisely only one path between\n",
       "producer and consumer. When attempting to map the same consumer interface\n",
       "to multiple producer interfaces, only the lowest consumer interface is\n",
       "able to access the consumer interface.\n",
       "Unused producer interfaces are automatically disabled by the logic\n",
       "provided in this driver\n"
      ]
     },
     "metadata": {},
     "output_type": "display_data"
    }
   ],
   "source": [
    "cpipe.axis_switch?"
   ]
  },
  {
   "cell_type": "code",
   "execution_count": 9,
   "metadata": {},
   "outputs": [
    {
     "data": {
      "text/plain": [
       "\u001b[0;31mType:\u001b[0m        property\n",
       "\u001b[0;31mString form:\u001b[0m <property object at 0xaf2ea870>\n",
       "\u001b[0;31mDocstring:\u001b[0m  \n",
       "AXI4-Stream Switch configuration\n",
       "\n",
       "Configure the AXI4-Stream Switch given a numpy array\n",
       "Each element in the array controls a consumer interface selection.\n",
       "If more than one element in the array is set to the same consumer\n",
       "interface, then the lower producer interface wins.\n",
       "\n",
       "Parameters\n",
       "----------\n",
       "conf_array : numpy array (dtype=np.int64)\n",
       "    An array with the mapping of consumer to producer interfaces\n",
       "    The index in the array is the producer interface and\n",
       "    the value is the consumer interface slot\n",
       "    The length of the array can vary from 1 to max slots\n",
       "    Use negative values to indicate that a producer is disabled\n",
       "\n",
       "    For instance, given this input [-1, 2, 1, 0]\n",
       "\n",
       "        Consumer 2 will be routed to Producer 1\n",
       "\n",
       "        Consumer 1 will be routed to Producer 2\n",
       "\n",
       "        Consumer 0 will be routed to Producer 3\n",
       "\n",
       "        Producer 0 is disabled\n"
      ]
     },
     "metadata": {},
     "output_type": "display_data"
    }
   ],
   "source": [
    "cpipe.axis_switch.pi?"
   ]
  },
  {
   "cell_type": "markdown",
   "metadata": {},
   "source": [
    "You can check the current AXI4-Stream Switch configuration using the `.pi` attribute.\n",
    "\n",
    "Note, the index in the array is the producer interface number and  the value is the consumer interface number"
   ]
  },
  {
   "cell_type": "code",
   "execution_count": 10,
   "metadata": {},
   "outputs": [
    {
     "data": {
      "text/plain": [
       "array([         5,          1, 2147483648,          4,         13,\n",
       "                3, 2147483648, 2147483648, 2147483648, 2147483648,\n",
       "       2147483648, 2147483648, 2147483648,          0, 2147483648],\n",
       "      dtype=int64)"
      ]
     },
     "execution_count": 10,
     "metadata": {},
     "output_type": "execute_result"
    }
   ],
   "source": [
    "cpipe.axis_switch.pi"
   ]
  },
  {
   "cell_type": "markdown",
   "metadata": {},
   "source": [
    "## Conclusion <a class=\"anchor\" id=\"conclusion\"></a>\n",
    "\n",
    "This notebook has shown how to use advance features from the `Composable` class\n",
    "\n",
    "[⬅️ Build your own Application](06_build_application.ipynb) | | [Webcam Pipeline ➡️](08_webcam_pipeline.ipynb)"
   ]
  },
  {
   "cell_type": "markdown",
   "metadata": {},
   "source": [
    "Copyright &copy; 2021 Xilinx, Inc\n",
    "\n",
    "SPDX-License-Identifier: BSD-3-Clause\n",
    "\n",
    "----"
   ]
  }
 ],
 "metadata": {
  "kernelspec": {
   "display_name": "Python 3",
   "language": "python",
   "name": "python3"
  },
  "language_info": {
   "codemirror_mode": {
    "name": "ipython",
    "version": 3
   },
   "file_extension": ".py",
   "mimetype": "text/x-python",
   "name": "python",
   "nbconvert_exporter": "python",
   "pygments_lexer": "ipython3",
   "version": "3.8.2"
  },
  "widgets": {
   "application/vnd.jupyter.widget-state+json": {
    "state": {},
    "version_major": 2,
    "version_minor": 0
   }
  }
 },
 "nbformat": 4,
 "nbformat_minor": 4
}
